{
  "nbformat": 4,
  "nbformat_minor": 0,
  "metadata": {
    "colab": {
      "name": "Thuchanh4.ipynb",
      "provenance": [],
      "authorship_tag": "ABX9TyOKEZiqaSoH3HxW4TJXWLTQ",
      "include_colab_link": true
    },
    "kernelspec": {
      "name": "python3",
      "display_name": "Python 3"
    },
    "language_info": {
      "name": "python"
    }
  },
  "cells": [
    {
      "cell_type": "markdown",
      "metadata": {
        "id": "view-in-github",
        "colab_type": "text"
      },
      "source": [
        "<a href=\"https://colab.research.google.com/github/00110000a/thuchanhtoancaocap/blob/main/Thuchanh4.ipynb\" target=\"_parent\"><img src=\"https://colab.research.google.com/assets/colab-badge.svg\" alt=\"Open In Colab\"/></a>"
      ]
    },
    {
      "cell_type": "markdown",
      "source": [
        ""
      ],
      "metadata": {
        "id": "LxEOC3GXjIEI"
      }
    },
    {
      "cell_type": "markdown",
      "source": [
        "Thực hành 1: Chia khoảng dữ liệt"
      ],
      "metadata": {
        "id": "Y2Tfe_ErjLx1"
      }
    },
    {
      "cell_type": "code",
      "source": [
        "import numpy as np \n",
        "mienchia = np.linspace(0, 2, 11) \n",
        "print(mienchia)"
      ],
      "metadata": {
        "colab": {
          "base_uri": "https://localhost:8080/"
        },
        "id": "iwRUXFYFjON7",
        "outputId": "e5901ecb-66bd-451e-9c8c-599fedde2a98"
      },
      "execution_count": 1,
      "outputs": [
        {
          "output_type": "stream",
          "name": "stdout",
          "text": [
            "[0.  0.2 0.4 0.6 0.8 1.  1.2 1.4 1.6 1.8 2. ]\n"
          ]
        }
      ]
    },
    {
      "cell_type": "markdown",
      "source": [
        "Thực hành 2: Vẽ các đồ thị\n"
      ],
      "metadata": {
        "id": "n2Dti1sbjSxm"
      }
    },
    {
      "cell_type": "code",
      "source": [
        "import numpy as np \n",
        "import matplotlib.pyplot as plt \n",
        "fs = [1, 2, 4] \n",
        "all_time = np.linspace(0, 2, 200) \n",
        "t = all_time[:100] \n",
        "for f in fs: \n",
        "  y = np.sin(2 * np.pi * f * t) \n",
        "  plt.plot(t, y, label='{} Hz'.format(f)) \n",
        "plt.legend() \n",
        "import os \n",
        "os.chdir('d:\\\\') \n",
        "plt.savefig('basics_python.pdf') \n",
        "plt.show()"
      ],
      "metadata": {
        "id": "GktlGB1djibX"
      },
      "execution_count": null,
      "outputs": []
    },
    {
      "cell_type": "markdown",
      "source": [
        "Thực hành 3: Xây dựng chương trình hướng đối tượng"
      ],
      "metadata": {
        "id": "4NF1bXePjmVq"
      }
    },
    {
      "cell_type": "code",
      "source": [
        ""
      ],
      "metadata": {
        "id": "nWkrYkDKjigd"
      },
      "execution_count": null,
      "outputs": []
    },
    {
      "cell_type": "markdown",
      "source": [
        "Thực hành 4: Minh họa cơ bản về hàm lamda"
      ],
      "metadata": {
        "id": "Kpk0tBXzju5W"
      }
    },
    {
      "cell_type": "code",
      "source": [
        "def f (x): return x**2\n",
        "print (f(8))"
      ],
      "metadata": {
        "colab": {
          "base_uri": "https://localhost:8080/"
        },
        "id": "yjZXzt7Oj1wQ",
        "outputId": "828cf998-ad9f-42fe-d3af-f3ddc84e6aac"
      },
      "execution_count": 2,
      "outputs": [
        {
          "output_type": "stream",
          "name": "stdout",
          "text": [
            "64\n"
          ]
        }
      ]
    },
    {
      "cell_type": "code",
      "source": [
        "g = lambda x: x**2\n",
        "print (g(8))"
      ],
      "metadata": {
        "colab": {
          "base_uri": "https://localhost:8080/"
        },
        "id": "FKAd6tiqkDvs",
        "outputId": "cd37b428-132b-475f-c9ed-90a6359a820f"
      },
      "execution_count": 3,
      "outputs": [
        {
          "output_type": "stream",
          "name": "stdout",
          "text": [
            "64\n"
          ]
        }
      ]
    },
    {
      "cell_type": "markdown",
      "source": [
        "Thực hành 5: Tính thuế theo từng khu vực"
      ],
      "metadata": {
        "id": "ORCqF1ldkNlp"
      }
    },
    {
      "cell_type": "code",
      "source": [
        "def thue(phan_tram): return lambda x: x * phan_tram \n",
        "hcm = thue(0.012) \n",
        "hn = thue(0.01)\n",
        "hcm(1000000)"
      ],
      "metadata": {
        "colab": {
          "base_uri": "https://localhost:8080/"
        },
        "id": "qEYf0fE2kgFd",
        "outputId": "7952c435-b816-465c-c730-fa096f9d6a75"
      },
      "execution_count": 4,
      "outputs": [
        {
          "output_type": "execute_result",
          "data": {
            "text/plain": [
              "12000.0"
            ]
          },
          "metadata": {},
          "execution_count": 4
        }
      ]
    },
    {
      "cell_type": "code",
      "source": [
        "hn(1000000)"
      ],
      "metadata": {
        "id": "RSXpmHW3kiiN"
      },
      "execution_count": null,
      "outputs": []
    },
    {
      "cell_type": "markdown",
      "source": [
        "Thực hành 6: Biễu diễn cài đặt phương thức hình thang với hàm lamda"
      ],
      "metadata": {
        "id": "0Iz6arfakk4P"
      }
    },
    {
      "cell_type": "code",
      "source": [
        "hinhthang = lambda f, a, b: (b-a)*(f(a)+f(b))/2\n",
        " \n",
        "from math import exp \n",
        "hinhthang(exp,0, 1)"
      ],
      "metadata": {
        "colab": {
          "base_uri": "https://localhost:8080/"
        },
        "id": "jQllDAzqkucw",
        "outputId": "b07a9695-eadc-4f0c-ae18-c2cb88b36a4b"
      },
      "execution_count": 5,
      "outputs": [
        {
          "output_type": "execute_result",
          "data": {
            "text/plain": [
              "1.8591409142295225"
            ]
          },
          "metadata": {},
          "execution_count": 5
        }
      ]
    },
    {
      "cell_type": "code",
      "source": [
        "def hai_x(x): \n",
        "  return 2*x \n",
        "hinhthang(hai_x, 1, 2)"
      ],
      "metadata": {
        "id": "MJfoFkMhkwO5"
      },
      "execution_count": null,
      "outputs": []
    },
    {
      "cell_type": "markdown",
      "source": [
        "Thực hành 7: Xây dựng hàm tích phân cho bằng phương thức hình thang"
      ],
      "metadata": {
        "id": "RkvVV5Ubky0P"
      }
    },
    {
      "cell_type": "code",
      "source": [
        "def traprule(ham, trai, phai):     \n",
        "  return (phai-trai)*(ham(trai) + ham(phai))/2 \n",
        "import math \n",
        "S = \"Bieu thuc can tinh tich phan la e^x:\" \n",
        "print(S + '[a,b]') \n",
        "A = float(input('Nhap a : ')) \n",
        "B = float(input('Nhap b : ')) \n",
        "Y = traprule(math.exp, A, B) \n",
        "print(S + \"[%.1E,%.1E] : \" % (A, B)) \n",
        "print('Gia tri xap xi : %.15E' % Y) \n",
        "E = math.exp(B) - math.exp(A) \n",
        "print(' Gia tri chinh xac : %.15E' % E)"
      ],
      "metadata": {
        "colab": {
          "base_uri": "https://localhost:8080/"
        },
        "id": "qFpi909rk64t",
        "outputId": "3b7b5708-76eb-4d29-d3bc-e68b3c653914"
      },
      "execution_count": 6,
      "outputs": [
        {
          "output_type": "stream",
          "name": "stdout",
          "text": [
            "Bieu thuc can tinh tich phan la e^x:[a,b]\n",
            "Nhap a : 0\n",
            "Nhap b : 1\n",
            "Bieu thuc can tinh tich phan la e^x:[0.0E+00,1.0E+00] : \n",
            "Gia tri xap xi : 1.859140914229523E+00\n",
            " Gia tri chinh xac : 1.718281828459045E+00\n"
          ]
        }
      ]
    },
    {
      "cell_type": "markdown",
      "source": [
        "Thực hành 8: Viết các lệnh sau và thực thi cùng lúc trong tập tin scipy_in.py:"
      ],
      "metadata": {
        "id": "O1l3JnAKlcwc"
      }
    },
    {
      "cell_type": "code",
      "source": [
        "import scipy \n",
        "from sympy import * \n",
        "import sys \n",
        "sys.displayhook = pprint \n",
        "x = Symbol('x') \n",
        "bt1 = integrate(x**2 + x + 1, x) \n",
        "pprint (bt1) \n",
        "bt2 = integrate(x/(x**2+2*x+1), x) \n",
        "pprint (bt2) \n",
        "bt3 = integrate(x**2 * exp(x) * cos(x), x) \n",
        "pprint (bt3) \n",
        "bt4 = integrate(exp(-x**2)*erf(x), x) \n",
        "pprint (bt4)\n"
      ],
      "metadata": {
        "colab": {
          "base_uri": "https://localhost:8080/"
        },
        "id": "2GV1Vuwglpi7",
        "outputId": "10eb26dd-325b-44d3-c21f-31c5bbbde47d"
      },
      "execution_count": 7,
      "outputs": [
        {
          "output_type": "stream",
          "name": "stdout",
          "text": [
            " 3    2    \n",
            "x    x     \n",
            "── + ── + x\n",
            "3    2     \n",
            "               1  \n",
            "log(x + 1) + ─────\n",
            "             x + 1\n",
            " 2  x           2  x                         x           x       \n",
            "x ⋅ℯ ⋅sin(x)   x ⋅ℯ ⋅cos(x)      x          ℯ ⋅sin(x)   ℯ ⋅cos(x)\n",
            "──────────── + ──────────── - x⋅ℯ ⋅sin(x) + ───────── - ─────────\n",
            "     2              2                           2           2    \n",
            "      2   \n",
            "√π⋅erf (x)\n",
            "──────────\n",
            "    4     \n",
            "None\n"
          ]
        }
      ]
    },
    {
      "cell_type": "markdown",
      "source": [
        "Thực hành 9: Tính tích phân đơn giản"
      ],
      "metadata": {
        "id": "Tex7Q8ezlvBh"
      }
    },
    {
      "cell_type": "code",
      "source": [
        "from sympy import Integral, Symbol \n",
        "x = Symbol('x') \n",
        "k = Symbol('k') \n",
        "Integral(k*x, x)"
      ],
      "metadata": {
        "colab": {
          "base_uri": "https://localhost:8080/",
          "height": 55
        },
        "id": "C6yD6G1GlyB8",
        "outputId": "62853fde-d05c-4489-eafb-10d9c241b4e3"
      },
      "execution_count": 8,
      "outputs": [
        {
          "output_type": "execute_result",
          "data": {
            "text/plain": [
              "Integral(k*x, x)"
            ],
            "text/latex": "$\\displaystyle \\int k x\\, dx$"
          },
          "metadata": {},
          "execution_count": 8
        }
      ]
    },
    {
      "cell_type": "code",
      "source": [
        "Integral(k*x, x).doit()"
      ],
      "metadata": {
        "colab": {
          "base_uri": "https://localhost:8080/",
          "height": 54
        },
        "id": "tvpNIWwEl-dn",
        "outputId": "30a65b7d-e3fe-41ca-f534-c6a6326367b7"
      },
      "execution_count": 9,
      "outputs": [
        {
          "output_type": "execute_result",
          "data": {
            "text/plain": [
              "k*x**2/2"
            ],
            "text/latex": "$\\displaystyle \\frac{k x^{2}}{2}$"
          },
          "metadata": {},
          "execution_count": 9
        }
      ]
    },
    {
      "cell_type": "markdown",
      "source": [
        "Thực hành 10: Tính tích phân đơn giản"
      ],
      "metadata": {
        "id": "JR8oceJ-mBR3"
      }
    },
    {
      "cell_type": "code",
      "source": [
        "from sympy import pprint, Integral \n",
        "F = Integral(k*x, x).doit() \n",
        "pprint (F)"
      ],
      "metadata": {
        "colab": {
          "base_uri": "https://localhost:8080/"
        },
        "id": "dIsmM3L6mD7J",
        "outputId": "a512ec9d-63a9-4d4d-b59b-6c9657397a9d"
      },
      "execution_count": 10,
      "outputs": [
        {
          "output_type": "stream",
          "name": "stdout",
          "text": [
            "   2\n",
            "k⋅x \n",
            "────\n",
            " 2  \n"
          ]
        }
      ]
    },
    {
      "cell_type": "markdown",
      "source": [
        "Thực hành 11: Tính tích phân đơn giản"
      ],
      "metadata": {
        "id": "bvHZ8wZZmHyQ"
      }
    },
    {
      "cell_type": "code",
      "source": [
        "Integral(k*x, (x, 0, 2)).doit()"
      ],
      "metadata": {
        "id": "4_ket16WmMvI"
      },
      "execution_count": null,
      "outputs": []
    },
    {
      "cell_type": "markdown",
      "source": [
        "Thực hành 12: Tính tích phân đơn giản"
      ],
      "metadata": {
        "id": "yVeRRCIcmSJL"
      }
    },
    {
      "cell_type": "code",
      "source": [
        "from sympy import Integral, Symbol \n",
        "x = Symbol('x')\n",
        "Integral(x, (x, 2, 4)).doit()"
      ],
      "metadata": {
        "id": "3UF7E1s3mT0o"
      },
      "execution_count": null,
      "outputs": []
    },
    {
      "cell_type": "markdown",
      "source": [
        "Thực hành 13: Tính tích phân hàm mật độ xác suất"
      ],
      "metadata": {
        "id": "uvVNXoVjmWjm"
      }
    },
    {
      "cell_type": "code",
      "source": [
        "from sympy import Symbol, exp, sqrt, pi, Integral\n",
        "x = Symbol('x') \n",
        "p = exp(-(x - 10)**2/2)/sqrt(2*pi) \n",
        "Integral(p, (x, 11, 12)).doit().evalf()"
      ],
      "metadata": {
        "id": "a8c7viXImYKd"
      },
      "execution_count": null,
      "outputs": []
    }
  ]
}