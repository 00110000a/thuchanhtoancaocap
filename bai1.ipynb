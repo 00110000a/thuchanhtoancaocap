{
  "nbformat": 4,
  "nbformat_minor": 0,
  "metadata": {
    "colab": {
      "name": "bai1.ipynb",
      "provenance": [],
      "collapsed_sections": [],
      "authorship_tag": "ABX9TyOquX25YgpslCq2d0O0hB2N",
      "include_colab_link": true
    },
    "kernelspec": {
      "name": "python3",
      "display_name": "Python 3"
    },
    "language_info": {
      "name": "python"
    }
  },
  "cells": [
    {
      "cell_type": "markdown",
      "metadata": {
        "id": "view-in-github",
        "colab_type": "text"
      },
      "source": [
        "<a href=\"https://colab.research.google.com/github/00110000a/thuchanhtoancaocap/blob/main/bai1.ipynb\" target=\"_parent\"><img src=\"https://colab.research.google.com/assets/colab-badge.svg\" alt=\"Open In Colab\"/></a>"
      ]
    },
    {
      "cell_type": "code",
      "execution_count": 9,
      "metadata": {
        "colab": {
          "base_uri": "https://localhost:8080/"
        },
        "id": "4S24vFHF4oKA",
        "outputId": "7e743391-4079-477a-c6bd-2a672125694f"
      },
      "outputs": [
        {
          "output_type": "stream",
          "name": "stdout",
          "text": [
            "b khác a\n"
          ]
        }
      ],
      "source": [
        "\n",
        "a = True\n",
        "b = False\n",
        "if (a == b) and (1/0 > 0):\n",
        "  print('a = b')\n",
        "else:\n",
        "  print('b khác a')"
      ]
    }
  ]
}