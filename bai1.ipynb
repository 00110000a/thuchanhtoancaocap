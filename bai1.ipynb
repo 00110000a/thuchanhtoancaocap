{
  "nbformat": 4,
  "nbformat_minor": 0,
  "metadata": {
    "colab": {
      "name": "bai1.ipynb",
      "provenance": [],
      "collapsed_sections": [],
      "authorship_tag": "ABX9TyO03j92K+UuS3PSOvitRpjH",
      "include_colab_link": true
    },
    "kernelspec": {
      "name": "python3",
      "display_name": "Python 3"
    },
    "language_info": {
      "name": "python"
    }
  },
  "cells": [
    {
      "cell_type": "markdown",
      "metadata": {
        "id": "view-in-github",
        "colab_type": "text"
      },
      "source": [
        "<a href=\"https://colab.research.google.com/github/00110000a/thuchanhtoancaocap/blob/main/bai1.ipynb\" target=\"_parent\"><img src=\"https://colab.research.google.com/assets/colab-badge.svg\" alt=\"Open In Colab\"/></a>"
      ]
    },
    {
      "cell_type": "code",
      "execution_count": null,
      "metadata": {
        "colab": {
          "base_uri": "https://localhost:8080/"
        },
        "id": "4S24vFHF4oKA",
        "outputId": "7e743391-4079-477a-c6bd-2a672125694f"
      },
      "outputs": [
        {
          "output_type": "stream",
          "name": "stdout",
          "text": [
            "b khác a\n"
          ]
        }
      ],
      "source": [
        "\n",
        "a = True\n",
        "b = False\n",
        "if (a == b) and (1/0 > 0):\n",
        "  print('a = b')\n",
        "else:\n",
        "  print('b khác a')"
      ]
    },
    {
      "cell_type": "code",
      "source": [
        "#thuchanh1\n",
        "blocks = 10000\n",
        "dayS = [1/2**n for n in range(0, blocks)]\n",
        "tongS = sum(dayS)\n",
        "\n",
        "print(tongS)"
      ],
      "metadata": {
        "id": "57kntEl7NpBf",
        "outputId": "a927c268-e5d7-4107-b6bb-af9da7806506",
        "colab": {
          "base_uri": "https://localhost:8080/"
        }
      },
      "execution_count": 4,
      "outputs": [
        {
          "output_type": "stream",
          "name": "stdout",
          "text": [
            "2.0\n"
          ]
        }
      ]
    },
    {
      "cell_type": "code",
      "source": [
        "#thuchanh2\n",
        "n = 1000\n",
        "X = [2*k/n for k in range(0, n+1)]\n",
        "S = 0\n",
        "for k in range (1, n+1):\\\n",
        "  S = S + X[k]**2*(X[k] - X[k-1])\n",
        "print(S)\n"
      ],
      "metadata": {
        "id": "YZZiIcQ7PsTL",
        "outputId": "8972041b-cc2d-4a54-8ee7-ea9a34ff8ed9",
        "colab": {
          "base_uri": "https://localhost:8080/"
        }
      },
      "execution_count": 10,
      "outputs": [
        {
          "output_type": "stream",
          "name": "stdout",
          "text": [
            "2.6706680000000027\n"
          ]
        }
      ]
    },
    {
      "cell_type": "code",
      "source": [
        ""
      ],
      "metadata": {
        "id": "PKYgTSWqQfj-"
      },
      "execution_count": null,
      "outputs": []
    }
  ]
}