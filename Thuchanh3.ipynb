{
  "nbformat": 4,
  "nbformat_minor": 0,
  "metadata": {
    "colab": {
      "name": "Thuchanh3.ipynb",
      "provenance": [],
      "authorship_tag": "ABX9TyNeRaspwMF6yyakawRZ62wt",
      "include_colab_link": true
    },
    "kernelspec": {
      "name": "python3",
      "display_name": "Python 3"
    },
    "language_info": {
      "name": "python"
    }
  },
  "cells": [
    {
      "cell_type": "markdown",
      "metadata": {
        "id": "view-in-github",
        "colab_type": "text"
      },
      "source": [
        "<a href=\"https://colab.research.google.com/github/00110000a/thuchanhtoancaocap/blob/main/Thuchanh3.ipynb\" target=\"_parent\"><img src=\"https://colab.research.google.com/assets/colab-badge.svg\" alt=\"Open In Colab\"/></a>"
      ]
    },
    {
      "cell_type": "markdown",
      "source": [
        "Thực hành 1\n"
      ],
      "metadata": {
        "id": "Oc17xzCQS_ah"
      }
    },
    {
      "cell_type": "code",
      "execution_count": 1,
      "metadata": {
        "id": "l8WJZU34SYJk"
      },
      "outputs": [],
      "source": [
        "def luythua(x,n):\n",
        "  ketqua = 1\n",
        "  for i in range(n):\n",
        "    ketqua = ketqua * x\n",
        "  return ketqua  \n"
      ]
    },
    {
      "cell_type": "code",
      "source": [
        "luythua(2,1)"
      ],
      "metadata": {
        "colab": {
          "base_uri": "https://localhost:8080/"
        },
        "id": "f58XOgIAT3-V",
        "outputId": "731d35c4-88f4-449f-f7b2-b7191523144a"
      },
      "execution_count": 2,
      "outputs": [
        {
          "output_type": "execute_result",
          "data": {
            "text/plain": [
              "2"
            ]
          },
          "metadata": {},
          "execution_count": 2
        }
      ]
    },
    {
      "cell_type": "code",
      "source": [
        "luythua(2, 0)"
      ],
      "metadata": {
        "colab": {
          "base_uri": "https://localhost:8080/"
        },
        "id": "J1EMS6DxTx8E",
        "outputId": "c2155adc-701b-40a7-a271-e55202b66867"
      },
      "execution_count": 3,
      "outputs": [
        {
          "output_type": "execute_result",
          "data": {
            "text/plain": [
              "1"
            ]
          },
          "metadata": {},
          "execution_count": 3
        }
      ]
    },
    {
      "cell_type": "markdown",
      "source": [
        "Thực hành 3\n"
      ],
      "metadata": {
        "id": "Gm6YlrWdW2vB"
      }
    },
    {
      "cell_type": "code",
      "source": [
        "x= int(input(\"Vui long nhap so:\"))\n",
        "while True:\n",
        "  try:\n",
        "    x = int(input(\"Vui long nhap so\"))\n",
        "    break\n",
        "  except:\n",
        "    print('ngoai le..., khong hop le!')"
      ],
      "metadata": {
        "id": "ED_NC0phW4E9"
      },
      "execution_count": null,
      "outputs": []
    },
    {
      "cell_type": "markdown",
      "source": [
        "Thực hành 2\n"
      ],
      "metadata": {
        "id": "UBm8I3H9anPj"
      }
    },
    {
      "cell_type": "code",
      "source": [
        "while 1=2:\n"
      ],
      "metadata": {
        "id": "GB5DMX2iaa2a"
      },
      "execution_count": null,
      "outputs": []
    },
    {
      "cell_type": "markdown",
      "source": [
        "Thực hành 5"
      ],
      "metadata": {
        "id": "Q_GI3JzRhfw1"
      }
    },
    {
      "cell_type": "code",
      "source": [
        "def frange (batdau, ketthuc, buocnhay):\n",
        "  day_ketqua = []\n",
        "  while batdau < ketthuc:\n",
        "    day_ketqua.append(batdau)\n",
        "    batdau = batdau + buocnhay\n",
        "  return day_ketqua"
      ],
      "metadata": {
        "id": "MJqezYS4hhOX"
      },
      "execution_count": null,
      "outputs": []
    },
    {
      "cell_type": "code",
      "source": [
        "tu0den2 = frange(0, 2, 0.2)\n",
        "tu0den2"
      ],
      "metadata": {
        "id": "UwlAsGtyincm"
      },
      "execution_count": null,
      "outputs": []
    },
    {
      "cell_type": "markdown",
      "source": [
        "Thực hành 6"
      ],
      "metadata": {
        "id": "JfHZIy2QieM5"
      }
    },
    {
      "cell_type": "code",
      "source": [
        "from matplotlib import pyplots as plt\n",
        "import math\n"
      ],
      "metadata": {
        "id": "UJh_z3EEigT4"
      },
      "execution_count": null,
      "outputs": []
    },
    {
      "cell_type": "markdown",
      "source": [
        "1 Vẽ đồ thị"
      ],
      "metadata": {
        "id": "xCDsNR2ElIRN"
      }
    },
    {
      "cell_type": "code",
      "source": [
        "def draw_graph(x,y):\n",
        "  plt.plot(x,y)\n",
        "  plt.xlabel('Truc X')\n",
        "  plt.ylabel('Truc Y')\n",
        "  plt.title('Do thi bai toan nem bong')"
      ],
      "metadata": {
        "id": "WQ2TpPXIlSpK"
      },
      "execution_count": null,
      "outputs": []
    }
  ]
}