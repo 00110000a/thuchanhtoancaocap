{
  "nbformat": 4,
  "nbformat_minor": 0,
  "metadata": {
    "colab": {
      "name": "Thuchanh7.ipynb",
      "provenance": [],
      "authorship_tag": "ABX9TyM/a35XWVCZzAeu716z+cob",
      "include_colab_link": true
    },
    "kernelspec": {
      "name": "python3",
      "display_name": "Python 3"
    },
    "language_info": {
      "name": "python"
    }
  },
  "cells": [
    {
      "cell_type": "markdown",
      "metadata": {
        "id": "view-in-github",
        "colab_type": "text"
      },
      "source": [
        "<a href=\"https://colab.research.google.com/github/00110000a/thuchanhtoancaocap/blob/main/Thuchanh7.ipynb\" target=\"_parent\"><img src=\"https://colab.research.google.com/assets/colab-badge.svg\" alt=\"Open In Colab\"/></a>"
      ]
    },
    {
      "cell_type": "markdown",
      "source": [
        "Thuc hanh 1 : Tich phan khong xac dinh loai 1\n"
      ],
      "metadata": {
        "id": "0E8EVezQn27j"
      }
    },
    {
      "cell_type": "code",
      "source": [
        "from sympy import Symbol, Integral\n",
        "x = Symbol('x')\n",
        "f = 1.0/x\n",
        "unbound1 = Integral(f,(x, 0, 2))\n",
        "unbound1.doit()"
      ],
      "metadata": {
        "colab": {
          "base_uri": "https://localhost:8080/",
          "height": 37
        },
        "id": "JS90F49nn8lT",
        "outputId": "72e7f5eb-e8ce-4e1f-91c4-a90b872d6787"
      },
      "execution_count": 6,
      "outputs": [
        {
          "output_type": "execute_result",
          "data": {
            "text/plain": [
              "oo"
            ],
            "text/latex": "$\\displaystyle \\infty$"
          },
          "metadata": {},
          "execution_count": 6
        }
      ]
    },
    {
      "cell_type": "markdown",
      "source": [
        "Thuc hanh 2: Tich phan khong xac dinh loai 2"
      ],
      "metadata": {
        "id": "4DWT875loPsZ"
      }
    },
    {
      "cell_type": "code",
      "source": [
        "from sympy import Symbol, Integral\n",
        "x = Symbol('x')\n",
        "f =1.0/x**2\n",
        "unbound2 = Integral(f,(x, -1, 1))\n",
        "unbound2.doit()"
      ],
      "metadata": {
        "colab": {
          "base_uri": "https://localhost:8080/",
          "height": 37
        },
        "id": "xTOC2wDfoTzV",
        "outputId": "83709e46-4a77-49fe-921e-7d88c8ac2bf5"
      },
      "execution_count": 7,
      "outputs": [
        {
          "output_type": "execute_result",
          "data": {
            "text/plain": [
              "oo"
            ],
            "text/latex": "$\\displaystyle \\infty$"
          },
          "metadata": {},
          "execution_count": 7
        }
      ]
    },
    {
      "cell_type": "markdown",
      "source": [
        "Thuc hanh 3: Tich phan khong lien tuc"
      ],
      "metadata": {
        "id": "qaZp8TxIonZs"
      }
    },
    {
      "cell_type": "code",
      "source": [
        "from sympy import Symbol, Integral, Abs\n",
        "x = Symbol('x')\n",
        "f = Abs(x)\n",
        "discontinous1 = Integral(f,(x,-1,2))\n",
        "discontinous1.doit()"
      ],
      "metadata": {
        "colab": {
          "base_uri": "https://localhost:8080/",
          "height": 51
        },
        "id": "X9J1i7_zoqy0",
        "outputId": "8b8ad418-2f7b-41ab-db78-c3e3ff50805f"
      },
      "execution_count": 8,
      "outputs": [
        {
          "output_type": "execute_result",
          "data": {
            "text/plain": [
              "5/2"
            ],
            "text/latex": "$\\displaystyle \\frac{5}{2}$"
          },
          "metadata": {},
          "execution_count": 8
        }
      ]
    },
    {
      "cell_type": "markdown",
      "source": [
        "Thuc hanh 4: Tich phan co ham thoa khong ton tai trong mien xac dinh (thuc)"
      ],
      "metadata": {
        "id": "0GRXPef8pCdg"
      }
    },
    {
      "cell_type": "code",
      "source": [
        "from sympy import Symbol, Integral\n",
        "x = Symbol('x')\n",
        "f = x**(0.5)\n",
        "undef1 = Integral(f,(x,-2,1))\n",
        "undef1.doit()"
      ],
      "metadata": {
        "colab": {
          "base_uri": "https://localhost:8080/",
          "height": 38
        },
        "id": "PCUbygKupHaR",
        "outputId": "4fe39f71-e1f9-4418-b1a6-c73cfbd753a4"
      },
      "execution_count": 10,
      "outputs": [
        {
          "output_type": "execute_result",
          "data": {
            "text/plain": [
              "0.666666666666667 + 1.88561808316413*I"
            ],
            "text/latex": "$\\displaystyle 0.666666666666667 + 1.88561808316413 i$"
          },
          "metadata": {},
          "execution_count": 10
        }
      ]
    },
    {
      "cell_type": "markdown",
      "source": [
        "Thuc hanh 5: Mot may do do duoc luong thuoc nhuom trong mau coi so lieu nhu sau:\n"
      ],
      "metadata": {
        "id": "34sPhLEPpkqJ"
      }
    },
    {
      "cell_type": "code",
      "source": [
        "from scipy import integrate\n",
        "import numpy as np\n",
        "y = np.array([0.0, 4.1, 8.9, 8.5, 6.7, 4.3, 2.5, 1.0, 0.2])\n",
        "x = np.arange(0,9)\n",
        "integrate.simps(y,x)"
      ],
      "metadata": {
        "colab": {
          "base_uri": "https://localhost:8080/"
        },
        "id": "SFCkKtpfpxpp",
        "outputId": "c32affb4-98b8-48c9-94a1-53689d4beda8"
      },
      "execution_count": 11,
      "outputs": [
        {
          "output_type": "execute_result",
          "data": {
            "text/plain": [
              "35.99999999999999"
            ]
          },
          "metadata": {},
          "execution_count": 11
        }
      ]
    },
    {
      "cell_type": "markdown",
      "source": [
        "Thuc hanh 6: Hay viet cac cau lenh Python de tim do dai cua duong cong nhu sau:"
      ],
      "metadata": {
        "id": "2BkwdDKgp0UH"
      }
    },
    {
      "cell_type": "code",
      "source": [
        ""
      ],
      "metadata": {
        "id": "lfFgse7mp68n"
      },
      "execution_count": null,
      "outputs": []
    }
  ]
}